{
 "cells": [
  {
   "cell_type": "code",
   "execution_count": 1,
   "id": "3f523b32-f2ca-4390-a1fc-72f940dd8aa8",
   "metadata": {},
   "outputs": [],
   "source": [
    "from eightpuzzle import *\n",
    "from puzzles import *\n",
    "from solvers import *\n",
    "from utils import *"
   ]
  },
  {
   "cell_type": "code",
   "execution_count": 2,
   "id": "9e9a74ce-7c6f-4140-b57b-608a6d6e52ee",
   "metadata": {},
   "outputs": [
    {
     "name": "stdin",
     "output_type": "stream",
     "text": [
      "Type 1. Examples or 2. Type random state:  1\n",
      "\n",
      "Type number form 1-9 (The higher, the more difficult):  3\n",
      "\n",
      "Type\n",
      "1. Uniform Cost\n",
      "2. A* with Misplaced Tile\n",
      "3. A* with Manhattan Distance:  1\n"
     ]
    },
    {
     "name": "stdout",
     "output_type": "stream",
     "text": [
      "-------------------- Starting Solving --------------------\n",
      "Final|| Solution depth: 4\tExpanded : 23\tSpace: 18\n",
      "---------------------------------------------------------\n",
      "------------------------path-----------------------------\n",
      "[1, 2, 3]\n",
      "[5, 0, 6]\n",
      "[4, 7, 8]\n",
      "---------------------------------------------------------\n",
      "[1, 2, 3]\n",
      "[0, 5, 6]\n",
      "[4, 7, 8]\n",
      "---------------------------------------------------------\n",
      "[1, 2, 3]\n",
      "[4, 5, 6]\n",
      "[0, 7, 8]\n",
      "---------------------------------------------------------\n",
      "[1, 2, 3]\n",
      "[4, 5, 6]\n",
      "[7, 0, 8]\n",
      "---------------------------------------------------------\n",
      "[1, 2, 3]\n",
      "[4, 5, 6]\n",
      "[7, 8, 0]\n",
      "---------------------------------------------------------\n"
     ]
    }
   ],
   "source": [
    "# print(\"-------------------- The 8-Puzzle --------------------\")\n",
    "\n",
    "option = int(input('Type 1. Examples or 2. Type random state: '))\n",
    "\n",
    "\n",
    "if option == 1:\n",
    "    number = int(input('\\nType number form 1-9 (The higher, the more difficult): '))\n",
    "    initial_state = None\n",
    "else:\n",
    "    number = 0\n",
    "    print('Type initial state: ')\n",
    "    row1 = input('first row (e.g., 1 2 3): ')\n",
    "    row2 = input('second row (e.g., 4 5 6): ')\n",
    "    row3 = input('third row (e.g., 7 8 0): ')\n",
    "\n",
    "    lst = []\n",
    "    row1 = row1.split(' ')\n",
    "    row1 = [int(i) for i in row1]\n",
    "    row2 = row2.split(' ')\n",
    "    row2 = [int(i) for i in row2]\n",
    "    row3 = row3.split(' ')\n",
    "    row3 = [int(i) for i in row3]\n",
    "    initial_sate = np.array([row1, row2, row3])\n",
    "\n",
    "solver = int(input(\"\\nType\\n1. Uniform Cost\\n2. A* with Misplaced Tile\\n3. A* with Manhattan Distance: \"))\n",
    "\n",
    "start_puzzle_game(number, initial_state, solver)"
   ]
  },
  {
   "cell_type": "markdown",
   "id": "a6adfa07-368e-4be6-b501-7a6cc838ec23",
   "metadata": {},
   "source": [
    "# "
   ]
  },
  {
   "cell_type": "code",
   "execution_count": null,
   "id": "f342ccb8-ee4a-4582-8b96-b895cb4a750d",
   "metadata": {},
   "outputs": [],
   "source": []
  }
 ],
 "metadata": {
  "kernelspec": {
   "display_name": "Python 3 (ipykernel)",
   "language": "python",
   "name": "python3"
  },
  "language_info": {
   "codemirror_mode": {
    "name": "ipython",
    "version": 3
   },
   "file_extension": ".py",
   "mimetype": "text/x-python",
   "name": "python",
   "nbconvert_exporter": "python",
   "pygments_lexer": "ipython3",
   "version": "3.8.8"
  }
 },
 "nbformat": 4,
 "nbformat_minor": 5
}
